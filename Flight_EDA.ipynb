{
  "cells": [
    {
      "metadata": {
        "trusted": true
      },
      "cell_type": "code",
      "source": "#for azure jupyter\n#!pip install pandas_profiling",
      "execution_count": 1,
      "outputs": []
    },
    {
      "metadata": {
        "trusted": true,
        "scrolled": true
      },
      "cell_type": "code",
      "source": "#not working in azure Jupyter\n#import pandas_profiling\n#report = pandas_profiling.ProfileReport(flight_data)\n#covert profile report as html file\n#report.to_file(\"flight_data.html\")\n",
      "execution_count": 3,
      "outputs": []
    },
    {
      "metadata": {},
      "cell_type": "markdown",
      "source": "### Import Required Libraries"
    },
    {
      "metadata": {
        "trusted": true
      },
      "cell_type": "code",
      "source": "import numpy as np\nimport pandas as pd\nimport seaborn as sns\nfrom matplotlib import pyplot as plt\nfrom collections import Counter\n%matplotlib inline",
      "execution_count": 1,
      "outputs": [
        {
          "output_type": "stream",
          "text": "/home/nbuser/anaconda3_420/lib/python3.5/site-packages/matplotlib/font_manager.py:281: UserWarning: Matplotlib is building the font cache using fc-list. This may take a moment.\n  'Matplotlib is building the font cache using fc-list. '\n",
          "name": "stderr"
        }
      ]
    },
    {
      "metadata": {
        "trusted": true
      },
      "cell_type": "code",
      "source": "flight_data=pd.read_csv(r'flight_data.csv')",
      "execution_count": 2,
      "outputs": []
    },
    {
      "metadata": {},
      "cell_type": "markdown",
      "source": "**Some Basic Insight on Data**"
    },
    {
      "metadata": {
        "trusted": true
      },
      "cell_type": "code",
      "source": "flight_data.head(5)",
      "execution_count": 3,
      "outputs": [
        {
          "output_type": "execute_result",
          "execution_count": 3,
          "data": {
            "text/html": "<div>\n<table border=\"1\" class=\"dataframe\">\n  <thead>\n    <tr style=\"text-align: right;\">\n      <th></th>\n      <th>year</th>\n      <th>month</th>\n      <th>day</th>\n      <th>dep_time</th>\n      <th>sched_dep_time</th>\n      <th>dep_delay</th>\n      <th>arr_time</th>\n      <th>sched_arr_time</th>\n      <th>arr_delay</th>\n      <th>carrier</th>\n      <th>flight</th>\n      <th>tailnum</th>\n      <th>origin</th>\n      <th>dest</th>\n      <th>air_time</th>\n      <th>distance</th>\n      <th>hour</th>\n      <th>minute</th>\n      <th>time_hour</th>\n    </tr>\n  </thead>\n  <tbody>\n    <tr>\n      <th>0</th>\n      <td>2013</td>\n      <td>1</td>\n      <td>1</td>\n      <td>517.0</td>\n      <td>515</td>\n      <td>2.0</td>\n      <td>830.0</td>\n      <td>819</td>\n      <td>11.0</td>\n      <td>UA</td>\n      <td>1545</td>\n      <td>N14228</td>\n      <td>EWR</td>\n      <td>IAH</td>\n      <td>227.0</td>\n      <td>1400</td>\n      <td>5</td>\n      <td>15</td>\n      <td>01-01-2013 05:00</td>\n    </tr>\n    <tr>\n      <th>1</th>\n      <td>2013</td>\n      <td>1</td>\n      <td>1</td>\n      <td>533.0</td>\n      <td>529</td>\n      <td>4.0</td>\n      <td>850.0</td>\n      <td>830</td>\n      <td>20.0</td>\n      <td>UA</td>\n      <td>1714</td>\n      <td>N24211</td>\n      <td>LGA</td>\n      <td>IAH</td>\n      <td>227.0</td>\n      <td>1416</td>\n      <td>5</td>\n      <td>29</td>\n      <td>01-01-2013 05:00</td>\n    </tr>\n    <tr>\n      <th>2</th>\n      <td>2013</td>\n      <td>1</td>\n      <td>1</td>\n      <td>542.0</td>\n      <td>540</td>\n      <td>2.0</td>\n      <td>923.0</td>\n      <td>850</td>\n      <td>33.0</td>\n      <td>AA</td>\n      <td>1141</td>\n      <td>N619AA</td>\n      <td>JFK</td>\n      <td>MIA</td>\n      <td>160.0</td>\n      <td>1089</td>\n      <td>5</td>\n      <td>40</td>\n      <td>01-01-2013 05:00</td>\n    </tr>\n    <tr>\n      <th>3</th>\n      <td>2013</td>\n      <td>1</td>\n      <td>1</td>\n      <td>544.0</td>\n      <td>545</td>\n      <td>-1.0</td>\n      <td>1004.0</td>\n      <td>1022</td>\n      <td>-18.0</td>\n      <td>B6</td>\n      <td>725</td>\n      <td>N804JB</td>\n      <td>JFK</td>\n      <td>BQN</td>\n      <td>183.0</td>\n      <td>1576</td>\n      <td>5</td>\n      <td>45</td>\n      <td>01-01-2013 05:00</td>\n    </tr>\n    <tr>\n      <th>4</th>\n      <td>2013</td>\n      <td>1</td>\n      <td>1</td>\n      <td>554.0</td>\n      <td>600</td>\n      <td>-6.0</td>\n      <td>812.0</td>\n      <td>837</td>\n      <td>-25.0</td>\n      <td>DL</td>\n      <td>461</td>\n      <td>N668DN</td>\n      <td>LGA</td>\n      <td>ATL</td>\n      <td>116.0</td>\n      <td>762</td>\n      <td>6</td>\n      <td>0</td>\n      <td>01-01-2013 06:00</td>\n    </tr>\n  </tbody>\n</table>\n</div>",
            "text/plain": "   year  month  day  dep_time  sched_dep_time  dep_delay  arr_time  \\\n0  2013      1    1     517.0             515        2.0     830.0   \n1  2013      1    1     533.0             529        4.0     850.0   \n2  2013      1    1     542.0             540        2.0     923.0   \n3  2013      1    1     544.0             545       -1.0    1004.0   \n4  2013      1    1     554.0             600       -6.0     812.0   \n\n   sched_arr_time  arr_delay carrier  flight tailnum origin dest  air_time  \\\n0             819       11.0      UA    1545  N14228    EWR  IAH     227.0   \n1             830       20.0      UA    1714  N24211    LGA  IAH     227.0   \n2             850       33.0      AA    1141  N619AA    JFK  MIA     160.0   \n3            1022      -18.0      B6     725  N804JB    JFK  BQN     183.0   \n4             837      -25.0      DL     461  N668DN    LGA  ATL     116.0   \n\n   distance  hour  minute         time_hour  \n0      1400     5      15  01-01-2013 05:00  \n1      1416     5      29  01-01-2013 05:00  \n2      1089     5      40  01-01-2013 05:00  \n3      1576     5      45  01-01-2013 05:00  \n4       762     6       0  01-01-2013 06:00  "
          },
          "metadata": {}
        }
      ]
    },
    {
      "metadata": {
        "trusted": true
      },
      "cell_type": "code",
      "source": "flight_data.describe().T",
      "execution_count": 4,
      "outputs": [
        {
          "output_type": "execute_result",
          "execution_count": 4,
          "data": {
            "text/html": "<div>\n<table border=\"1\" class=\"dataframe\">\n  <thead>\n    <tr style=\"text-align: right;\">\n      <th></th>\n      <th>count</th>\n      <th>mean</th>\n      <th>std</th>\n      <th>min</th>\n      <th>25%</th>\n      <th>50%</th>\n      <th>75%</th>\n      <th>max</th>\n    </tr>\n  </thead>\n  <tbody>\n    <tr>\n      <th>year</th>\n      <td>336776.0</td>\n      <td>2013.000000</td>\n      <td>0.000000</td>\n      <td>2013.0</td>\n      <td>2013.0</td>\n      <td>2013.0</td>\n      <td>2013.0</td>\n      <td>2013.0</td>\n    </tr>\n    <tr>\n      <th>month</th>\n      <td>336776.0</td>\n      <td>6.548510</td>\n      <td>3.414457</td>\n      <td>1.0</td>\n      <td>4.0</td>\n      <td>7.0</td>\n      <td>10.0</td>\n      <td>12.0</td>\n    </tr>\n    <tr>\n      <th>day</th>\n      <td>336776.0</td>\n      <td>15.710787</td>\n      <td>8.768607</td>\n      <td>1.0</td>\n      <td>8.0</td>\n      <td>16.0</td>\n      <td>23.0</td>\n      <td>31.0</td>\n    </tr>\n    <tr>\n      <th>dep_time</th>\n      <td>328521.0</td>\n      <td>1349.109947</td>\n      <td>488.281791</td>\n      <td>1.0</td>\n      <td>907.0</td>\n      <td>1401.0</td>\n      <td>1744.0</td>\n      <td>2400.0</td>\n    </tr>\n    <tr>\n      <th>sched_dep_time</th>\n      <td>336776.0</td>\n      <td>1344.254840</td>\n      <td>467.335756</td>\n      <td>106.0</td>\n      <td>906.0</td>\n      <td>1359.0</td>\n      <td>1729.0</td>\n      <td>2359.0</td>\n    </tr>\n    <tr>\n      <th>dep_delay</th>\n      <td>328521.0</td>\n      <td>12.639070</td>\n      <td>40.210061</td>\n      <td>-43.0</td>\n      <td>-5.0</td>\n      <td>-2.0</td>\n      <td>11.0</td>\n      <td>1301.0</td>\n    </tr>\n    <tr>\n      <th>arr_time</th>\n      <td>328063.0</td>\n      <td>1502.054999</td>\n      <td>533.264132</td>\n      <td>1.0</td>\n      <td>1104.0</td>\n      <td>1535.0</td>\n      <td>1940.0</td>\n      <td>2400.0</td>\n    </tr>\n    <tr>\n      <th>sched_arr_time</th>\n      <td>336776.0</td>\n      <td>1536.380220</td>\n      <td>497.457142</td>\n      <td>1.0</td>\n      <td>1124.0</td>\n      <td>1556.0</td>\n      <td>1945.0</td>\n      <td>2359.0</td>\n    </tr>\n    <tr>\n      <th>arr_delay</th>\n      <td>327346.0</td>\n      <td>6.895377</td>\n      <td>44.633292</td>\n      <td>-86.0</td>\n      <td>-17.0</td>\n      <td>-5.0</td>\n      <td>14.0</td>\n      <td>1272.0</td>\n    </tr>\n    <tr>\n      <th>flight</th>\n      <td>336776.0</td>\n      <td>1971.923620</td>\n      <td>1632.471938</td>\n      <td>1.0</td>\n      <td>553.0</td>\n      <td>1496.0</td>\n      <td>3465.0</td>\n      <td>8500.0</td>\n    </tr>\n    <tr>\n      <th>air_time</th>\n      <td>327346.0</td>\n      <td>150.686460</td>\n      <td>93.688305</td>\n      <td>20.0</td>\n      <td>82.0</td>\n      <td>129.0</td>\n      <td>192.0</td>\n      <td>695.0</td>\n    </tr>\n    <tr>\n      <th>distance</th>\n      <td>336776.0</td>\n      <td>1039.912604</td>\n      <td>733.233033</td>\n      <td>17.0</td>\n      <td>502.0</td>\n      <td>872.0</td>\n      <td>1389.0</td>\n      <td>4983.0</td>\n    </tr>\n    <tr>\n      <th>hour</th>\n      <td>336776.0</td>\n      <td>13.180247</td>\n      <td>4.661316</td>\n      <td>1.0</td>\n      <td>9.0</td>\n      <td>13.0</td>\n      <td>17.0</td>\n      <td>23.0</td>\n    </tr>\n    <tr>\n      <th>minute</th>\n      <td>336776.0</td>\n      <td>26.230100</td>\n      <td>19.300846</td>\n      <td>0.0</td>\n      <td>8.0</td>\n      <td>29.0</td>\n      <td>44.0</td>\n      <td>59.0</td>\n    </tr>\n  </tbody>\n</table>\n</div>",
            "text/plain": "                   count         mean          std     min     25%     50%  \\\nyear            336776.0  2013.000000     0.000000  2013.0  2013.0  2013.0   \nmonth           336776.0     6.548510     3.414457     1.0     4.0     7.0   \nday             336776.0    15.710787     8.768607     1.0     8.0    16.0   \ndep_time        328521.0  1349.109947   488.281791     1.0   907.0  1401.0   \nsched_dep_time  336776.0  1344.254840   467.335756   106.0   906.0  1359.0   \ndep_delay       328521.0    12.639070    40.210061   -43.0    -5.0    -2.0   \narr_time        328063.0  1502.054999   533.264132     1.0  1104.0  1535.0   \nsched_arr_time  336776.0  1536.380220   497.457142     1.0  1124.0  1556.0   \narr_delay       327346.0     6.895377    44.633292   -86.0   -17.0    -5.0   \nflight          336776.0  1971.923620  1632.471938     1.0   553.0  1496.0   \nair_time        327346.0   150.686460    93.688305    20.0    82.0   129.0   \ndistance        336776.0  1039.912604   733.233033    17.0   502.0   872.0   \nhour            336776.0    13.180247     4.661316     1.0     9.0    13.0   \nminute          336776.0    26.230100    19.300846     0.0     8.0    29.0   \n\n                   75%     max  \nyear            2013.0  2013.0  \nmonth             10.0    12.0  \nday               23.0    31.0  \ndep_time        1744.0  2400.0  \nsched_dep_time  1729.0  2359.0  \ndep_delay         11.0  1301.0  \narr_time        1940.0  2400.0  \nsched_arr_time  1945.0  2359.0  \narr_delay         14.0  1272.0  \nflight          3465.0  8500.0  \nair_time         192.0   695.0  \ndistance        1389.0  4983.0  \nhour              17.0    23.0  \nminute            44.0    59.0  "
          },
          "metadata": {}
        }
      ]
    },
    {
      "metadata": {
        "trusted": true
      },
      "cell_type": "code",
      "source": "flight_data.info()",
      "execution_count": 5,
      "outputs": [
        {
          "output_type": "stream",
          "text": "<class 'pandas.core.frame.DataFrame'>\nRangeIndex: 336776 entries, 0 to 336775\nData columns (total 19 columns):\nyear              336776 non-null int64\nmonth             336776 non-null int64\nday               336776 non-null int64\ndep_time          328521 non-null float64\nsched_dep_time    336776 non-null int64\ndep_delay         328521 non-null float64\narr_time          328063 non-null float64\nsched_arr_time    336776 non-null int64\narr_delay         327346 non-null float64\ncarrier           336776 non-null object\nflight            336776 non-null int64\ntailnum           334264 non-null object\norigin            336776 non-null object\ndest              336776 non-null object\nair_time          327346 non-null float64\ndistance          336776 non-null int64\nhour              336776 non-null int64\nminute            336776 non-null int64\ntime_hour         336776 non-null object\ndtypes: float64(5), int64(9), object(5)\nmemory usage: 48.8+ MB\n",
          "name": "stdout"
        }
      ]
    },
    {
      "metadata": {},
      "cell_type": "markdown",
      "source": "*There is some missing data, need to treat accordigly*"
    },
    {
      "metadata": {},
      "cell_type": "markdown",
      "source": "## Drop Columns which are not needed"
    },
    {
      "metadata": {
        "trusted": true
      },
      "cell_type": "code",
      "source": "#Drop redundant columns\nflight_data.drop(['year'],axis=1,inplace=True)\nflight_data.drop(['minute'],axis=1,inplace=True)\n#flight_data.drop(['time_hour'],axis=1,inplace=True)",
      "execution_count": 5,
      "outputs": []
    },
    {
      "metadata": {},
      "cell_type": "markdown",
      "source": "NOT assigning ay default valudes to departure/arrival times and/or delays. As this may affect actual outcome. We will ignore such records whenever necessary \n"
    },
    {
      "metadata": {},
      "cell_type": "markdown",
      "source": "# 1. Departure delays analysis"
    },
    {
      "metadata": {
        "trusted": true
      },
      "cell_type": "code",
      "source": "#ingore missing data (NaNs)\ndf2 = flight_data.loc[flight_data['dep_time'].notnull(),['dep_time','dep_delay','carrier','origin','flight','hour']]",
      "execution_count": 6,
      "outputs": []
    },
    {
      "metadata": {
        "trusted": true
      },
      "cell_type": "code",
      "source": "#check current dataframe status , no NaN in dep_xxx\ndf2.info()",
      "execution_count": 7,
      "outputs": [
        {
          "output_type": "stream",
          "text": "<class 'pandas.core.frame.DataFrame'>\nInt64Index: 328521 entries, 0 to 336769\nData columns (total 6 columns):\ndep_time     328521 non-null float64\ndep_delay    328521 non-null float64\ncarrier      328521 non-null object\norigin       328521 non-null object\nflight       328521 non-null int64\nhour         328521 non-null int64\ndtypes: float64(2), int64(2), object(2)\nmemory usage: 17.5+ MB\n",
          "name": "stdout"
        }
      ]
    },
    {
      "metadata": {
        "trusted": true
      },
      "cell_type": "code",
      "source": "#downcast dep_time to intger \ndf2['dep_time'] = df2['dep_time'].astype(int)\n#downcast dep_delay to intger \ndf2['dep_delay'] = pd.to_numeric(df2['dep_delay'],downcast='integer')\n#change flight number to string \ndf2['flight'] = df2['flight'].astype(str)",
      "execution_count": 8,
      "outputs": []
    },
    {
      "metadata": {},
      "cell_type": "markdown",
      "source": ">**Find Carrier wise average Departure Delay "
    },
    {
      "metadata": {
        "trusted": true
      },
      "cell_type": "code",
      "source": "#departure  delay carrier wise \nb=df2[['dep_delay','carrier']].groupby('carrier').mean()\n\nprint(\"Carriers:  \", b.index)\nprint(\"Max Average Delay\", b.max())\nprint(\"Carrier with Max Average Delay\", b.idxmax())\nprint(\"Min Average Delay\", b.min())\nprint(\"Carrier with Min Average Delay\", b.idxmin())\n\nplt.plot(b, linewidth=2.0)\nplt.xlabel('Carrier')\nplt.ylabel('Average Delay (in Mins)')\nplt.suptitle('Carrier wise (Average) Departure Delay',fontsize=16)\n\nplt.show()\n",
      "execution_count": 9,
      "outputs": [
        {
          "output_type": "stream",
          "text": "Carriers:   Index(['9E', 'AA', 'AS', 'B6', 'DL', 'EV', 'F9', 'FL', 'HA', 'MQ', 'OO', 'UA',\n       'US', 'VX', 'WN', 'YV'],\n      dtype='object', name='carrier')\nMax Average Delay dep_delay    20.215543\ndtype: float64\nCarrier with Max Average Delay dep_delay    F9\ndtype: object\nMin Average Delay dep_delay    3.782418\ndtype: float64\nCarrier with Min Average Delay dep_delay    US\ndtype: object\n",
          "name": "stdout"
        },
        {
          "output_type": "display_data",
          "data": {
            "image/png": "[encoded data removed]",
            "text/plain": "<matplotlib.figure.Figure at 0x7f640f313cc0>"
          },
          "metadata": {}
        }
      ]
    },
    {
      "metadata": {},
      "cell_type": "markdown",
      "source": ">**Find Airport wise average Departure Delay "
    },
    {
      "metadata": {
        "trusted": true
      },
      "cell_type": "code",
      "source": "#departure delay airport wise \n\nc=df2[['dep_delay','origin']].groupby('origin').mean()\n\nprint(\"Origin:  \", c.index)\nprint(\"Max Average Delay\", c.max())\nprint(\"Airport with Max Average Delay\", c.idxmax())\nprint(\"Min Average Delay\", c.min())\nprint(\"Airport with Min Average Delay\", c.idxmin())\n\nplt.plot(c, linewidth=2.0,color='green')\nplt.xlabel('Airport')\nplt.ylabel('Average Delay (in Mins)')\nplt.suptitle('Airpot wise Departure Delay(mean)',fontsize=16)\n\nplt.show()\n",
      "execution_count": 10,
      "outputs": [
        {
          "output_type": "stream",
          "text": "Origin:   Index(['EWR', 'JFK', 'LGA'], dtype='object', name='origin')\nMax Average Delay dep_delay    15.107954\ndtype: float64\nAirport with Max Average Delay dep_delay    EWR\ndtype: object\nMin Average Delay dep_delay    10.346876\ndtype: float64\nAirport with Min Average Delay dep_delay    LGA\ndtype: object\n",
          "name": "stdout"
        },
        {
          "output_type": "display_data",
          "data": {
            "image/png": "[encoded data removed]",
            "text/plain": "<matplotlib.figure.Figure at 0x7f640f336c18>"
          },
          "metadata": {}
        }
      ]
    },
    {
      "metadata": {},
      "cell_type": "markdown",
      "source": "# 2 Best airports in terms of time departure%."
    },
    {
      "metadata": {
        "trusted": true
      },
      "cell_type": "code",
      "source": "#create dataframe with airports and dep_delay\ndeparture_df = flight_data.loc[flight_data['dep_delay'].notnull(),['origin','dep_delay']]\ndeparture_df['dep_delay']=departure_df['dep_delay'].astype(int)\ndeparture_df.info()\n\n#filter rows where  dep_delay=0 (on time departures)\nontime_departure_df = departure_df.loc[departure_df['dep_delay'].eq(0),['origin','dep_delay']]\nontime_departure_df.info()",
      "execution_count": 11,
      "outputs": [
        {
          "output_type": "stream",
          "text": "<class 'pandas.core.frame.DataFrame'>\nInt64Index: 328521 entries, 0 to 336769\nData columns (total 2 columns):\norigin       328521 non-null object\ndep_delay    328521 non-null int64\ndtypes: int64(1), object(1)\nmemory usage: 7.5+ MB\n<class 'pandas.core.frame.DataFrame'>\nInt64Index: 16514 entries, 15 to 336753\nData columns (total 2 columns):\norigin       16514 non-null object\ndep_delay    16514 non-null int64\ndtypes: int64(1), object(1)\nmemory usage: 387.0+ KB\n",
          "name": "stdout"
        }
      ]
    },
    {
      "metadata": {
        "trusted": true
      },
      "cell_type": "code",
      "source": "airports = departure_df.origin.unique()\nprint(\"Departure Airpots: \" , airports)\n",
      "execution_count": 12,
      "outputs": [
        {
          "output_type": "stream",
          "text": "Departure Airpots:  ['EWR' 'LGA' 'JFK']\n",
          "name": "stdout"
        }
      ]
    },
    {
      "metadata": {
        "trusted": true
      },
      "cell_type": "code",
      "source": "#Find Total Departures, Airport wise \ndeparture_count = departure_df['origin'].value_counts()\ndeparture_count.head()",
      "execution_count": 13,
      "outputs": [
        {
          "output_type": "execute_result",
          "execution_count": 13,
          "data": {
            "text/plain": "EWR    117596\nJFK    109416\nLGA    101509\nName: origin, dtype: int64"
          },
          "metadata": {}
        }
      ]
    },
    {
      "metadata": {
        "trusted": true
      },
      "cell_type": "code",
      "source": "#Count ontime Departures \nontime_departure_count = ontime_departure_df['origin'].value_counts()\nontime_departure_count.head()\n",
      "execution_count": 14,
      "outputs": [
        {
          "output_type": "execute_result",
          "execution_count": 14,
          "data": {
            "text/plain": "JFK    6239\nEWR    5585\nLGA    4690\nName: origin, dtype: int64"
          },
          "metadata": {}
        }
      ]
    },
    {
      "metadata": {
        "trusted": true
      },
      "cell_type": "code",
      "source": "#Create datafram for further calculation \nmydf = pd.DataFrame(data=ontime_departure_count)\nmydf.info()\nmydf2 = pd.DataFrame(data=departure_count )\nmydf2.info()\n",
      "execution_count": 15,
      "outputs": [
        {
          "output_type": "stream",
          "text": "<class 'pandas.core.frame.DataFrame'>\nIndex: 3 entries, JFK to LGA\nData columns (total 1 columns):\norigin    3 non-null int64\ndtypes: int64(1)\nmemory usage: 48.0+ bytes\n<class 'pandas.core.frame.DataFrame'>\nIndex: 3 entries, EWR to LGA\nData columns (total 1 columns):\norigin    3 non-null int64\ndtypes: int64(1)\nmemory usage: 48.0+ bytes\n",
          "name": "stdout"
        }
      ]
    },
    {
      "metadata": {
        "trusted": true
      },
      "cell_type": "code",
      "source": "#rename columns for clarity\nmydf = mydf.rename(index=str, columns={\"origin\": \"ontime_flights\"})\nmydf2 = mydf2.rename(index=str, columns={\"origin\": \"total_flights\"})\n",
      "execution_count": 16,
      "outputs": []
    },
    {
      "metadata": {
        "trusted": true
      },
      "cell_type": "code",
      "source": "#join dfs for final result\nontime_dep_result = pd.concat([mydf, mydf2], axis=1)\nontime_dep_result.info()\n",
      "execution_count": 17,
      "outputs": [
        {
          "output_type": "stream",
          "text": "<class 'pandas.core.frame.DataFrame'>\nIndex: 3 entries, EWR to LGA\nData columns (total 2 columns):\nontime_flights    3 non-null int64\ntotal_flights     3 non-null int64\ndtypes: int64(2)\nmemory usage: 72.0+ bytes\n",
          "name": "stdout"
        }
      ]
    },
    {
      "metadata": {
        "trusted": true
      },
      "cell_type": "code",
      "source": "ontime_dep_result.head()",
      "execution_count": 18,
      "outputs": [
        {
          "output_type": "execute_result",
          "execution_count": 18,
          "data": {
            "text/html": "<div>\n<table border=\"1\" class=\"dataframe\">\n  <thead>\n    <tr style=\"text-align: right;\">\n      <th></th>\n      <th>ontime_flights</th>\n      <th>total_flights</th>\n    </tr>\n  </thead>\n  <tbody>\n    <tr>\n      <th>EWR</th>\n      <td>5585</td>\n      <td>117596</td>\n    </tr>\n    <tr>\n      <th>JFK</th>\n      <td>6239</td>\n      <td>109416</td>\n    </tr>\n    <tr>\n      <th>LGA</th>\n      <td>4690</td>\n      <td>101509</td>\n    </tr>\n  </tbody>\n</table>\n</div>",
            "text/plain": "     ontime_flights  total_flights\nEWR            5585         117596\nJFK            6239         109416\nLGA            4690         101509"
          },
          "metadata": {}
        }
      ]
    },
    {
      "metadata": {
        "trusted": true
      },
      "cell_type": "code",
      "source": "#calculate % ontime departure\nontime_dep_result = ontime_dep_result.assign(ontime_per = \n                                            lambda x: ((x.ontime_flights*100)/x.total_flights))",
      "execution_count": 19,
      "outputs": []
    },
    {
      "metadata": {
        "trusted": true
      },
      "cell_type": "code",
      "source": "print (ontime_dep_result.head())\n#Airpot with best ontime %\nprint(ontime_dep_result['ontime_per'].max())\nprint (ontime_dep_result['ontime_per'].idxmax())\n",
      "execution_count": 20,
      "outputs": [
        {
          "output_type": "stream",
          "text": "     ontime_flights  total_flights  ontime_per\nEWR            5585         117596    4.749311\nJFK            6239         109416    5.702091\nLGA            4690         101509    4.620280\n5.702091101849821\nJFK\n",
          "name": "stdout"
        }
      ]
    },
    {
      "metadata": {
        "trusted": true
      },
      "cell_type": "code",
      "source": "plt.bar(ontime_dep_result.index.tolist(),ontime_dep_result['ontime_per'] , width=0.4, bottom=None)\nplt.xlabel('Airport')\nplt.ylabel('% On Time Departures')\nplt.suptitle('Best Airpot for On-time Departures(%)',fontsize=16)\nplt.show()",
      "execution_count": 21,
      "outputs": [
        {
          "output_type": "display_data",
          "data": {
            "image/png": "[encoded data removed]",
            "text/plain": "<matplotlib.figure.Figure at 0x7f640f2a3c88>"
          },
          "metadata": {}
        }
      ]
    },
    {
      "metadata": {},
      "cell_type": "markdown",
      "source": "# Most Busy Airport"
    },
    {
      "metadata": {
        "trusted": true
      },
      "cell_type": "code",
      "source": "# bar plot for airport wise departures\nplt.bar(mydf2.index.tolist(),mydf2['total_flights'] , width=0.35, bottom=None)\nplt.xlabel('Carrier')\nplt.ylabel('Total Departures')\nplt.suptitle('Busiest Airpot',fontsize=16)\n\nplt.show()",
      "execution_count": 22,
      "outputs": [
        {
          "output_type": "display_data",
          "data": {
            "image/png": "[encoded data removed]",
            "text/plain": "<matplotlib.figure.Figure at 0x7f640f2b89e8>"
          },
          "metadata": {}
        }
      ]
    },
    {
      "metadata": {},
      "cell_type": "markdown",
      "source": "# 3. Aircraft speed analysis"
    },
    {
      "metadata": {},
      "cell_type": "markdown",
      "source": "Here 'tailnumber' indicates a specific aircraft, so we will analyse based on tailnum"
    },
    {
      "metadata": {
        "trusted": true
      },
      "cell_type": "code",
      "source": "#aircraft speed\nair_speed_df = flight_data.loc[flight_data['air_time'].notnull(),['tailnum','air_time','distance']]\nair_speed_df.info()",
      "execution_count": 23,
      "outputs": [
        {
          "output_type": "stream",
          "text": "<class 'pandas.core.frame.DataFrame'>\nInt64Index: 327346 entries, 0 to 336769\nData columns (total 3 columns):\ntailnum     327346 non-null object\nair_time    327346 non-null float64\ndistance    327346 non-null int64\ndtypes: float64(1), int64(1), object(1)\nmemory usage: 10.0+ MB\n",
          "name": "stdout"
        }
      ]
    },
    {
      "metadata": {
        "trusted": true
      },
      "cell_type": "code",
      "source": "air_speed_df.sample(7)",
      "execution_count": 24,
      "outputs": [
        {
          "output_type": "execute_result",
          "execution_count": 24,
          "data": {
            "text/html": "<div>\n<table border=\"1\" class=\"dataframe\">\n  <thead>\n    <tr style=\"text-align: right;\">\n      <th></th>\n      <th>tailnum</th>\n      <th>air_time</th>\n      <th>distance</th>\n    </tr>\n  </thead>\n  <tbody>\n    <tr>\n      <th>124398</th>\n      <td>N184JB</td>\n      <td>150.0</td>\n      <td>937</td>\n    </tr>\n    <tr>\n      <th>282763</th>\n      <td>N533UA</td>\n      <td>37.0</td>\n      <td>200</td>\n    </tr>\n    <tr>\n      <th>231118</th>\n      <td>N13992</td>\n      <td>89.0</td>\n      <td>569</td>\n    </tr>\n    <tr>\n      <th>164230</th>\n      <td>N454UA</td>\n      <td>113.0</td>\n      <td>719</td>\n    </tr>\n    <tr>\n      <th>306980</th>\n      <td>N473AA</td>\n      <td>102.0</td>\n      <td>733</td>\n    </tr>\n    <tr>\n      <th>283510</th>\n      <td>N8932C</td>\n      <td>44.0</td>\n      <td>228</td>\n    </tr>\n    <tr>\n      <th>153313</th>\n      <td>N776WN</td>\n      <td>137.0</td>\n      <td>872</td>\n    </tr>\n  </tbody>\n</table>\n</div>",
            "text/plain": "       tailnum  air_time  distance\n124398  N184JB     150.0       937\n282763  N533UA      37.0       200\n231118  N13992      89.0       569\n164230  N454UA     113.0       719\n306980  N473AA     102.0       733\n283510  N8932C      44.0       228\n153313  N776WN     137.0       872"
          },
          "metadata": {}
        }
      ]
    },
    {
      "metadata": {
        "trusted": true
      },
      "cell_type": "code",
      "source": "#calculate and add speed (miles/hr)\nair_speed_df = air_speed_df.assign(avg_Speed = lambda x: ((x.distance*60)/x.air_time))\n",
      "execution_count": 25,
      "outputs": []
    },
    {
      "metadata": {
        "trusted": true
      },
      "cell_type": "code",
      "source": "mean_air_speed = air_speed_df.groupby('tailnum')['avg_Speed'].mean()\nmean_air_speed.head()",
      "execution_count": 26,
      "outputs": [
        {
          "output_type": "execute_result",
          "execution_count": 26,
          "data": {
            "text/plain": "tailnum\nD942DN    381.463714\nN0EGMQ    390.577378\nN10156    385.115125\nN102UW    393.785127\nN103US    387.943443\nName: avg_Speed, dtype: float64"
          },
          "metadata": {}
        }
      ]
    },
    {
      "metadata": {
        "trusted": true
      },
      "cell_type": "code",
      "source": "#aircraft with Highest speed\nprint (\"Aircraft with Highest Speed: \",mean_air_speed.idxmax(), \"Speed (miles/hour): \",mean_air_speed.max())\nprint (\"Total Number of Aircrafts Compared: \", mean_air_speed.size)",
      "execution_count": 27,
      "outputs": [
        {
          "output_type": "stream",
          "text": "Aircraft with Highest Speed:  N228UA Speed (miles/hour):  500.81632653061223\nTotal Number of Aircrafts Compared:  4037\n",
          "name": "stdout"
        }
      ]
    },
    {
      "metadata": {
        "trusted": true
      },
      "cell_type": "code",
      "source": "#histogram of speed\nplt.hist(mean_air_speed, bins=9)\nplt.xlabel('Speed (miles/hr)')\nplt.ylabel('Number of Aircrafts')\nplt.show()",
      "execution_count": 28,
      "outputs": [
        {
          "output_type": "display_data",
          "data": {
            "image/png": "[encoded data removed]",
            "text/plain": "<matplotlib.figure.Figure at 0x7f640efc6b00>"
          },
          "metadata": {}
        }
      ]
    },
    {
      "metadata": {
        "trusted": true
      },
      "cell_type": "code",
      "source": "#Carrier owning fastest aircraft\nfastest_carrier = flight_data.loc[flight_data['tailnum']==(\"N228UA\"),['carrier','tailnum','flight']]\n",
      "execution_count": 29,
      "outputs": []
    },
    {
      "metadata": {
        "trusted": true
      },
      "cell_type": "code",
      "source": "fastest_carrier",
      "execution_count": 30,
      "outputs": [
        {
          "output_type": "execute_result",
          "execution_count": 30,
          "data": {
            "text/html": "<div>\n<table border=\"1\" class=\"dataframe\">\n  <thead>\n    <tr style=\"text-align: right;\">\n      <th></th>\n      <th>carrier</th>\n      <th>tailnum</th>\n      <th>flight</th>\n    </tr>\n  </thead>\n  <tbody>\n    <tr>\n      <th>301176</th>\n      <td>UA</td>\n      <td>N228UA</td>\n      <td>755</td>\n    </tr>\n  </tbody>\n</table>\n</div>",
            "text/plain": "       carrier tailnum  flight\n301176      UA  N228UA     755"
          },
          "metadata": {}
        }
      ]
    },
    {
      "metadata": {},
      "cell_type": "markdown",
      "source": "# 4. On time arrival % analysis."
    },
    {
      "metadata": {
        "trusted": true
      },
      "cell_type": "code",
      "source": "#ontime arrival flight wise\narrival_df = flight_data.loc[flight_data['arr_delay'].notnull(),['flight','arr_delay','carrier']]\narrival_df.info()\nontime_arrival_df = flight_data.loc[flight_data['arr_delay'].eq(0),['flight','arr_delay','carrier']]\nontime_arrival_df.info()",
      "execution_count": 31,
      "outputs": [
        {
          "output_type": "stream",
          "text": "<class 'pandas.core.frame.DataFrame'>\nInt64Index: 327346 entries, 0 to 336769\nData columns (total 3 columns):\nflight       327346 non-null int64\narr_delay    327346 non-null float64\ncarrier      327346 non-null object\ndtypes: float64(1), int64(1), object(1)\nmemory usage: 10.0+ MB\n<class 'pandas.core.frame.DataFrame'>\nInt64Index: 5409 entries, 35 to 336595\nData columns (total 3 columns):\nflight       5409 non-null int64\narr_delay    5409 non-null float64\ncarrier      5409 non-null object\ndtypes: float64(1), int64(1), object(1)\nmemory usage: 169.0+ KB\n",
          "name": "stdout"
        }
      ]
    },
    {
      "metadata": {
        "trusted": true
      },
      "cell_type": "code",
      "source": "flights = arrival_df.flight.unique()\nprint(\"total flights: \" , flights.size)\n\n#each flight occurance \nflights_count = arrival_df['flight'].value_counts()\nflights_count.head()",
      "execution_count": 32,
      "outputs": [
        {
          "output_type": "stream",
          "text": "total flights:  3835\n",
          "name": "stdout"
        },
        {
          "output_type": "execute_result",
          "execution_count": 32,
          "data": {
            "text/plain": "15     956\n27     886\n181    875\n301    852\n161    780\nName: flight, dtype: int64"
          },
          "metadata": {}
        }
      ]
    },
    {
      "metadata": {
        "trusted": true
      },
      "cell_type": "code",
      "source": "ontime_flights_count = ontime_arrival_df['flight'].value_counts()\nontime_flights_count.head()",
      "execution_count": 33,
      "outputs": [
        {
          "output_type": "execute_result",
          "execution_count": 33,
          "data": {
            "text/plain": "15     22\n575    19\n269    18\n3      16\n219    16\nName: flight, dtype: int64"
          },
          "metadata": {}
        }
      ]
    },
    {
      "metadata": {
        "trusted": true
      },
      "cell_type": "code",
      "source": "mydf = pd.DataFrame(data=ontime_flights_count)\nmydf2 = pd.DataFrame(data=flights_count)\n",
      "execution_count": 34,
      "outputs": []
    },
    {
      "metadata": {
        "trusted": true
      },
      "cell_type": "code",
      "source": "#change column name for clarity\nmydf.rename(columns={'flight': 'ontime_flights'}, inplace=True)\nmydf2.rename(columns={'flight': 'total_flights'}, inplace=True)",
      "execution_count": 35,
      "outputs": []
    },
    {
      "metadata": {
        "trusted": true
      },
      "cell_type": "code",
      "source": "#join dfs for final result\nontime_result = pd.concat([mydf, mydf2], axis=1)\nontime_result.info()",
      "execution_count": 36,
      "outputs": [
        {
          "output_type": "stream",
          "text": "<class 'pandas.core.frame.DataFrame'>\nInt64Index: 3835 entries, 1 to 8500\nData columns (total 2 columns):\nontime_flights    1838 non-null float64\ntotal_flights     3835 non-null int64\ndtypes: float64(1), int64(1)\nmemory usage: 89.9 KB\n",
          "name": "stdout"
        }
      ]
    },
    {
      "metadata": {
        "trusted": true
      },
      "cell_type": "code",
      "source": "#set ontime to 0 for NaNs (missing dep_delay)\nidx = pd.IndexSlice\t\nontime_result.update(ontime_result.loc[idx[:],idx['ontime_flights']].fillna(value=0))",
      "execution_count": 37,
      "outputs": []
    },
    {
      "metadata": {
        "trusted": true
      },
      "cell_type": "code",
      "source": "ontime_result.tail()",
      "execution_count": 38,
      "outputs": [
        {
          "output_type": "execute_result",
          "execution_count": 38,
          "data": {
            "text/html": "<div>\n<table border=\"1\" class=\"dataframe\">\n  <thead>\n    <tr style=\"text-align: right;\">\n      <th></th>\n      <th>ontime_flights</th>\n      <th>total_flights</th>\n    </tr>\n  </thead>\n  <tbody>\n    <tr>\n      <th>6168</th>\n      <td>0.0</td>\n      <td>2</td>\n    </tr>\n    <tr>\n      <th>6177</th>\n      <td>5.0</td>\n      <td>160</td>\n    </tr>\n    <tr>\n      <th>6180</th>\n      <td>0.0</td>\n      <td>6</td>\n    </tr>\n    <tr>\n      <th>6181</th>\n      <td>1.0</td>\n      <td>80</td>\n    </tr>\n    <tr>\n      <th>8500</th>\n      <td>0.0</td>\n      <td>1</td>\n    </tr>\n  </tbody>\n</table>\n</div>",
            "text/plain": "      ontime_flights  total_flights\n6168             0.0              2\n6177             5.0            160\n6180             0.0              6\n6181             1.0             80\n8500             0.0              1"
          },
          "metadata": {}
        }
      ]
    },
    {
      "metadata": {
        "trusted": true
      },
      "cell_type": "code",
      "source": "#calculate % ontime arrival \nontime_result = ontime_result.assign(ontime_per = lambda x: ((x.ontime_flights*100)/x.total_flights))\nontime_result.tail()",
      "execution_count": 39,
      "outputs": [
        {
          "output_type": "execute_result",
          "execution_count": 39,
          "data": {
            "text/html": "<div>\n<table border=\"1\" class=\"dataframe\">\n  <thead>\n    <tr style=\"text-align: right;\">\n      <th></th>\n      <th>ontime_flights</th>\n      <th>total_flights</th>\n      <th>ontime_per</th>\n    </tr>\n  </thead>\n  <tbody>\n    <tr>\n      <th>6168</th>\n      <td>0.0</td>\n      <td>2</td>\n      <td>0.000</td>\n    </tr>\n    <tr>\n      <th>6177</th>\n      <td>5.0</td>\n      <td>160</td>\n      <td>3.125</td>\n    </tr>\n    <tr>\n      <th>6180</th>\n      <td>0.0</td>\n      <td>6</td>\n      <td>0.000</td>\n    </tr>\n    <tr>\n      <th>6181</th>\n      <td>1.0</td>\n      <td>80</td>\n      <td>1.250</td>\n    </tr>\n    <tr>\n      <th>8500</th>\n      <td>0.0</td>\n      <td>1</td>\n      <td>0.000</td>\n    </tr>\n  </tbody>\n</table>\n</div>",
            "text/plain": "      ontime_flights  total_flights  ontime_per\n6168             0.0              2       0.000\n6177             5.0            160       3.125\n6180             0.0              6       0.000\n6181             1.0             80       1.250\n8500             0.0              1       0.000"
          },
          "metadata": {}
        }
      ]
    },
    {
      "metadata": {},
      "cell_type": "markdown",
      "source": "#**flight with best ontime %"
    },
    {
      "metadata": {
        "trusted": true
      },
      "cell_type": "code",
      "source": "print(ontime_result['ontime_per'].max())\nontime_result['ontime_per'].idxmax()\n",
      "execution_count": 40,
      "outputs": [
        {
          "output_type": "stream",
          "text": "100.0\n",
          "name": "stdout"
        },
        {
          "output_type": "execute_result",
          "execution_count": 40,
          "data": {
            "text/plain": "748"
          },
          "metadata": {}
        }
      ]
    },
    {
      "metadata": {},
      "cell_type": "markdown",
      "source": "We need to dig more as only single ontime occurance doesn't give true pricture"
    },
    {
      "metadata": {
        "trusted": true
      },
      "cell_type": "code",
      "source": "ontime_result.total_flights.unique()",
      "execution_count": 41,
      "outputs": [
        {
          "output_type": "execute_result",
          "execution_count": 41,
          "data": {
            "text/plain": "array([697,  51, 628, 391, 324, 206, 236, 234, 152,  61, 535, 127, 956,\n        95, 326,   8, 438, 224, 567, 174, 538, 167,  94, 886,   5, 435,\n       166, 317, 104, 338, 154, 286, 156,  10,  41,  81,  60, 155, 113,\n       133, 169, 125,   2,   6,  58, 384,  20, 151, 131, 478, 259, 351,\n        14, 287, 124,   4, 279, 139, 189,   9,  55, 161,  43,  15, 631,\n       117, 475, 492,   1, 184, 408, 336,   3, 105,  16, 109, 280,  17,\n        67, 270, 190, 195, 528, 194, 527, 316,  36, 477, 168,  38, 534,\n        31, 393, 153, 119, 377,  30, 170, 497,  76,  34,  68,  40, 311,\n        13,  54, 780,  11, 298, 532, 180,  42, 254, 130, 135, 328, 524,\n       875, 607,  29, 487, 122, 271, 186, 142,  99, 204, 432, 126,  19,\n        53,  25, 345, 261, 147, 192,  22,  45, 182, 212,  12,  35, 245,\n       253,  93,  18,   7,  27,  28,  86, 285,  73,  92,  50, 429,  89,\n        84,  48, 141, 158, 525, 112,  26, 218,  49,  39, 587, 229,  52,\n       101,  65,  21,  79,  23, 143,  71, 290, 852, 680, 545, 238, 303,\n        63, 428, 255, 296, 178, 121, 150,  37, 246, 500, 620, 549,  44,\n       412, 322,  46, 526, 472, 649, 281, 331, 120, 221, 694, 310,  62,\n       675, 203, 267, 228, 231,  98,  64, 460,  80, 193,  24,  66, 349,\n       128, 575, 330, 181, 474, 576, 627, 600, 256, 202, 278,  72, 148,\n       482,  85,  57,  69, 114, 514, 115, 171, 210, 100,  91, 467,  88,\n        75,  33, 102, 329, 302, 529,  82,  83, 375, 110, 350, 374, 461,\n       313, 160, 108, 213, 406, 433,  47, 321, 118, 179, 344, 305, 116,\n       636,  32, 164, 200, 249,  96, 273, 314, 297, 275, 312, 223, 266,\n       548, 220, 244, 232,  87, 209, 756,  56, 353, 185, 681, 225, 339,\n       440, 146, 596, 364, 308, 134, 319, 138, 610, 370, 352, 265, 466,\n       136, 216, 366, 282, 140, 235, 348, 205, 283, 315,  70, 263, 199,\n       307, 217, 363, 198, 106, 159, 226,  77, 463,  74, 230,  59, 211,\n       201, 299, 354, 242, 162, 268, 709, 163, 248, 149, 289, 197, 165,\n       107, 103, 494, 177, 288, 251, 111, 342, 368, 301, 227, 490, 356,\n       417, 530,  97, 132, 252,  78, 129, 581, 455, 176, 459, 188, 157,\n       208, 389, 247, 196, 260, 239, 145, 379, 284, 347, 369,  90, 340,\n       241, 219, 237, 571, 355, 183, 187, 517, 426, 358, 300, 367, 318,\n       422, 441, 215, 561, 269, 357, 144, 320, 233, 172, 609, 272, 123,\n       360, 343, 385, 450, 191, 277, 137, 262, 173, 294, 327, 291, 175,\n       264, 257, 404, 207, 454, 222, 243, 397, 413, 276, 240, 341])"
          },
          "metadata": {}
        }
      ]
    },
    {
      "metadata": {},
      "cell_type": "markdown",
      "source": "#find top 10 Flights with best % ontime arrival"
    },
    {
      "metadata": {
        "trusted": true
      },
      "cell_type": "code",
      "source": "#Ignore the flights with less than 5 total flights ( not significant )\nbest_ontime_arrival = ontime_result.loc[ontime_result['total_flights'] >= 5]\nbest_ontime_arrival.head()",
      "execution_count": 42,
      "outputs": [
        {
          "output_type": "execute_result",
          "execution_count": 42,
          "data": {
            "text/html": "<div>\n<table border=\"1\" class=\"dataframe\">\n  <thead>\n    <tr style=\"text-align: right;\">\n      <th></th>\n      <th>ontime_flights</th>\n      <th>total_flights</th>\n      <th>ontime_per</th>\n    </tr>\n  </thead>\n  <tbody>\n    <tr>\n      <th>1</th>\n      <td>10.0</td>\n      <td>697</td>\n      <td>1.434720</td>\n    </tr>\n    <tr>\n      <th>2</th>\n      <td>2.0</td>\n      <td>51</td>\n      <td>3.921569</td>\n    </tr>\n    <tr>\n      <th>3</th>\n      <td>16.0</td>\n      <td>628</td>\n      <td>2.547771</td>\n    </tr>\n    <tr>\n      <th>4</th>\n      <td>8.0</td>\n      <td>391</td>\n      <td>2.046036</td>\n    </tr>\n    <tr>\n      <th>5</th>\n      <td>2.0</td>\n      <td>324</td>\n      <td>0.617284</td>\n    </tr>\n  </tbody>\n</table>\n</div>",
            "text/plain": "   ontime_flights  total_flights  ontime_per\n1            10.0            697    1.434720\n2             2.0             51    3.921569\n3            16.0            628    2.547771\n4             8.0            391    2.046036\n5             2.0            324    0.617284"
          },
          "metadata": {}
        }
      ]
    },
    {
      "metadata": {
        "trusted": true
      },
      "cell_type": "code",
      "source": "#flight with Maximum number of ontime flights\n\nprint(\"Flight with Maximum # of ontime flights\")\nprint ( best_ontime_arrival.loc[best_ontime_arrival['ontime_flights'].idxmax()])\n      ",
      "execution_count": 43,
      "outputs": [
        {
          "output_type": "stream",
          "text": "Flight with Maximum # of ontime flights\nontime_flights     22.000000\ntotal_flights     956.000000\nontime_per          2.301255\nName: 15, dtype: float64\n",
          "name": "stdout"
        }
      ]
    },
    {
      "metadata": {
        "trusted": true
      },
      "cell_type": "code",
      "source": "top10 = best_ontime_arrival.sort_values(by=['ontime_per','total_flights'],ascending=False).head(10)\ntop10",
      "execution_count": 44,
      "outputs": [
        {
          "output_type": "execute_result",
          "execution_count": 44,
          "data": {
            "text/html": "<div>\n<table border=\"1\" class=\"dataframe\">\n  <thead>\n    <tr style=\"text-align: right;\">\n      <th></th>\n      <th>ontime_flights</th>\n      <th>total_flights</th>\n      <th>ontime_per</th>\n    </tr>\n  </thead>\n  <tbody>\n    <tr>\n      <th>2153</th>\n      <td>2.0</td>\n      <td>7</td>\n      <td>28.571429</td>\n    </tr>\n    <tr>\n      <th>4627</th>\n      <td>2.0</td>\n      <td>9</td>\n      <td>22.222222</td>\n    </tr>\n    <tr>\n      <th>4306</th>\n      <td>3.0</td>\n      <td>15</td>\n      <td>20.000000</td>\n    </tr>\n    <tr>\n      <th>68</th>\n      <td>1.0</td>\n      <td>5</td>\n      <td>20.000000</td>\n    </tr>\n    <tr>\n      <th>1449</th>\n      <td>1.0</td>\n      <td>5</td>\n      <td>20.000000</td>\n    </tr>\n    <tr>\n      <th>2339</th>\n      <td>1.0</td>\n      <td>5</td>\n      <td>20.000000</td>\n    </tr>\n    <tr>\n      <th>2381</th>\n      <td>1.0</td>\n      <td>5</td>\n      <td>20.000000</td>\n    </tr>\n    <tr>\n      <th>3639</th>\n      <td>1.0</td>\n      <td>5</td>\n      <td>20.000000</td>\n    </tr>\n    <tr>\n      <th>4616</th>\n      <td>1.0</td>\n      <td>5</td>\n      <td>20.000000</td>\n    </tr>\n    <tr>\n      <th>5035</th>\n      <td>1.0</td>\n      <td>5</td>\n      <td>20.000000</td>\n    </tr>\n  </tbody>\n</table>\n</div>",
            "text/plain": "      ontime_flights  total_flights  ontime_per\n2153             2.0              7   28.571429\n4627             2.0              9   22.222222\n4306             3.0             15   20.000000\n68               1.0              5   20.000000\n1449             1.0              5   20.000000\n2339             1.0              5   20.000000\n2381             1.0              5   20.000000\n3639             1.0              5   20.000000\n4616             1.0              5   20.000000\n5035             1.0              5   20.000000"
          },
          "metadata": {}
        }
      ]
    },
    {
      "metadata": {
        "trusted": true
      },
      "cell_type": "code",
      "source": "#plot top 10\nfig, ax = plt.subplots()\nrects1 = ax.bar(top10.index.astype(str).tolist(),top10['ontime_per'], 0.35, color='lightgreen')\n\n# add some text for labels, title \nax.set_ylabel('<-- % Ontime Arrivals -->')\nax.set_xlabel('<-- Flight Number -->')\nax.set_title(' **** Top 10 Ontime Flights **** ',fontsize=16)\n\ndef autolabel(rects):\n    \"\"\"\n    Attach a text label above each bar displaying its height\n    \"\"\"\n    for rect in rects:\n        height = rect.get_height()\n        ax.text(rect.get_x() + rect.get_width()/2., 1.005*height, '%d' % int(height), ha='center', va='bottom')\n\nautolabel(rects1)\nplt.show()\n# ToDo: Add carrier name wiht flight in graph",
      "execution_count": 47,
      "outputs": [
        {
          "output_type": "display_data",
          "data": {
            "image/png": "[encoded data removed]",
            "text/plain": "<matplotlib.figure.Figure at 0x7f640ef97a90>"
          },
          "metadata": {}
        }
      ]
    },
    {
      "metadata": {},
      "cell_type": "markdown",
      "source": ">**Do Flight-Carrier Mapping"
    },
    {
      "metadata": {
        "trusted": true
      },
      "cell_type": "code",
      "source": "criterion = arrival_df['flight'].map(lambda x: x in (top10.index.tolist()))",
      "execution_count": 48,
      "outputs": []
    },
    {
      "metadata": {
        "trusted": true
      },
      "cell_type": "code",
      "source": "carrier_list = arrival_df.loc[criterion,['flight','carrier']]\ncarrier_list.drop_duplicates(inplace=True)\ncarrier_list",
      "execution_count": 49,
      "outputs": [
        {
          "output_type": "execute_result",
          "execution_count": 49,
          "data": {
            "text/html": "<div>\n<table border=\"1\" class=\"dataframe\">\n  <thead>\n    <tr style=\"text-align: right;\">\n      <th></th>\n      <th>flight</th>\n      <th>carrier</th>\n    </tr>\n  </thead>\n  <tbody>\n    <tr>\n      <th>2535</th>\n      <td>4627</td>\n      <td>EV</td>\n    </tr>\n    <tr>\n      <th>4671</th>\n      <td>4306</td>\n      <td>EV</td>\n    </tr>\n    <tr>\n      <th>10235</th>\n      <td>4616</td>\n      <td>EV</td>\n    </tr>\n    <tr>\n      <th>63454</th>\n      <td>2339</td>\n      <td>WN</td>\n    </tr>\n    <tr>\n      <th>89480</th>\n      <td>3639</td>\n      <td>9E</td>\n    </tr>\n    <tr>\n      <th>101900</th>\n      <td>2381</td>\n      <td>DL</td>\n    </tr>\n    <tr>\n      <th>127303</th>\n      <td>1449</td>\n      <td>UA</td>\n    </tr>\n    <tr>\n      <th>141509</th>\n      <td>68</td>\n      <td>UA</td>\n    </tr>\n    <tr>\n      <th>183309</th>\n      <td>2153</td>\n      <td>WN</td>\n    </tr>\n    <tr>\n      <th>196824</th>\n      <td>5035</td>\n      <td>EV</td>\n    </tr>\n  </tbody>\n</table>\n</div>",
            "text/plain": "        flight carrier\n2535      4627      EV\n4671      4306      EV\n10235     4616      EV\n63454     2339      WN\n89480     3639      9E\n101900    2381      DL\n127303    1449      UA\n141509      68      UA\n183309    2153      WN\n196824    5035      EV"
          },
          "metadata": {}
        }
      ]
    },
    {
      "metadata": {},
      "cell_type": "markdown",
      "source": "Find Carriers associated with Top10 Flights "
    },
    {
      "metadata": {
        "trusted": true
      },
      "cell_type": "code",
      "source": "#Need flight-carrier map for plotting label\ntmpdf = top10.assign(flight=lambda a: a.index)",
      "execution_count": 50,
      "outputs": []
    },
    {
      "metadata": {
        "trusted": true
      },
      "cell_type": "code",
      "source": "fl_carr = tmpdf.join(carrier_list.set_index('flight'),on='flight')",
      "execution_count": 51,
      "outputs": []
    },
    {
      "metadata": {
        "trusted": true
      },
      "cell_type": "code",
      "source": "#Create new column showing Flight-Carrier\nfl_carr = fl_carr.assign(fl_carr=fl_carr['flight'].astype(str)+\"-\"+fl_carr['carrier'])\nfl_carr",
      "execution_count": 52,
      "outputs": [
        {
          "output_type": "execute_result",
          "execution_count": 52,
          "data": {
            "text/html": "<div>\n<table border=\"1\" class=\"dataframe\">\n  <thead>\n    <tr style=\"text-align: right;\">\n      <th></th>\n      <th>ontime_flights</th>\n      <th>total_flights</th>\n      <th>ontime_per</th>\n      <th>flight</th>\n      <th>carrier</th>\n      <th>fl_carr</th>\n    </tr>\n  </thead>\n  <tbody>\n    <tr>\n      <th>2153</th>\n      <td>2.0</td>\n      <td>7</td>\n      <td>28.571429</td>\n      <td>2153</td>\n      <td>WN</td>\n      <td>2153-WN</td>\n    </tr>\n    <tr>\n      <th>4627</th>\n      <td>2.0</td>\n      <td>9</td>\n      <td>22.222222</td>\n      <td>4627</td>\n      <td>EV</td>\n      <td>4627-EV</td>\n    </tr>\n    <tr>\n      <th>4306</th>\n      <td>3.0</td>\n      <td>15</td>\n      <td>20.000000</td>\n      <td>4306</td>\n      <td>EV</td>\n      <td>4306-EV</td>\n    </tr>\n    <tr>\n      <th>68</th>\n      <td>1.0</td>\n      <td>5</td>\n      <td>20.000000</td>\n      <td>68</td>\n      <td>UA</td>\n      <td>68-UA</td>\n    </tr>\n    <tr>\n      <th>1449</th>\n      <td>1.0</td>\n      <td>5</td>\n      <td>20.000000</td>\n      <td>1449</td>\n      <td>UA</td>\n      <td>1449-UA</td>\n    </tr>\n    <tr>\n      <th>2339</th>\n      <td>1.0</td>\n      <td>5</td>\n      <td>20.000000</td>\n      <td>2339</td>\n      <td>WN</td>\n      <td>2339-WN</td>\n    </tr>\n    <tr>\n      <th>2381</th>\n      <td>1.0</td>\n      <td>5</td>\n      <td>20.000000</td>\n      <td>2381</td>\n      <td>DL</td>\n      <td>2381-DL</td>\n    </tr>\n    <tr>\n      <th>3639</th>\n      <td>1.0</td>\n      <td>5</td>\n      <td>20.000000</td>\n      <td>3639</td>\n      <td>9E</td>\n      <td>3639-9E</td>\n    </tr>\n    <tr>\n      <th>4616</th>\n      <td>1.0</td>\n      <td>5</td>\n      <td>20.000000</td>\n      <td>4616</td>\n      <td>EV</td>\n      <td>4616-EV</td>\n    </tr>\n    <tr>\n      <th>5035</th>\n      <td>1.0</td>\n      <td>5</td>\n      <td>20.000000</td>\n      <td>5035</td>\n      <td>EV</td>\n      <td>5035-EV</td>\n    </tr>\n  </tbody>\n</table>\n</div>",
            "text/plain": "      ontime_flights  total_flights  ontime_per  flight carrier  fl_carr\n2153             2.0              7   28.571429    2153      WN  2153-WN\n4627             2.0              9   22.222222    4627      EV  4627-EV\n4306             3.0             15   20.000000    4306      EV  4306-EV\n68               1.0              5   20.000000      68      UA    68-UA\n1449             1.0              5   20.000000    1449      UA  1449-UA\n2339             1.0              5   20.000000    2339      WN  2339-WN\n2381             1.0              5   20.000000    2381      DL  2381-DL\n3639             1.0              5   20.000000    3639      9E  3639-9E\n4616             1.0              5   20.000000    4616      EV  4616-EV\n5035             1.0              5   20.000000    5035      EV  5035-EV"
          },
          "metadata": {}
        }
      ]
    },
    {
      "metadata": {
        "trusted": true
      },
      "cell_type": "code",
      "source": "#plot top 10 with Flight-Carrier\nx = fl_carr.index.astype(str).tolist()\nx_ticks_labels = fl_carr['fl_carr'].values\n",
      "execution_count": 53,
      "outputs": []
    },
    {
      "metadata": {
        "trusted": true
      },
      "cell_type": "code",
      "source": "fig, ax = plt.subplots()\nrects1 = ax.bar(x,top10['ontime_per'], 0.4, color='purple')\n\n# add some text for labels, title \nax.set_ylabel('<-- % Ontime Arrivals -->')\nax.set_xlabel('<-- Flight-Carrier -->')\nax.set_title(' **** Top 10 Ontime Flights **** ',fontsize=16)\n# Set number of ticks for x-axis\nax.set_xticks(x)\n# Set ticks labels for x-axis\nax.set_xticklabels(x_ticks_labels, rotation='vertical', fontsize=14)\n\ndef autolabel(rects):\n    \"\"\"\n    Attach a text label above each bar displaying its height\n    \"\"\"\n    for rect in rects:\n        height = rect.get_height()\n        ax.text(rect.get_x() + rect.get_width()/2., 1.005*height, '%d' % int(height), ha='center', va='bottom')\n\nautolabel(rects1)\nplt.show()\n",
      "execution_count": 54,
      "outputs": [
        {
          "output_type": "display_data",
          "data": {
            "image/png": "[encoded data removed]",
            "text/plain": "<matplotlib.figure.Figure at 0x7f640ef9c9b0>"
          },
          "metadata": {}
        }
      ]
    },
    {
      "metadata": {},
      "cell_type": "markdown",
      "source": "# 5. Maximum number of flights headed to some particular destination"
    },
    {
      "metadata": {
        "trusted": true,
        "scrolled": true
      },
      "cell_type": "code",
      "source": "dest_fligh_count = flight_data['dest'].value_counts()\ndest_fligh_count.head()",
      "execution_count": 55,
      "outputs": [
        {
          "output_type": "execute_result",
          "execution_count": 55,
          "data": {
            "text/plain": "ORD    17283\nATL    17215\nLAX    16174\nBOS    15508\nMCO    14082\nName: dest, dtype: int64"
          },
          "metadata": {}
        }
      ]
    },
    {
      "metadata": {
        "trusted": true
      },
      "cell_type": "code",
      "source": "print(\"Destination with Maximum flights: \",dest_fligh_count.idxmax(),\"Total Flights to this Dest: \", dest_fligh_count.max())",
      "execution_count": 56,
      "outputs": [
        {
          "output_type": "stream",
          "text": "Destination with Maximum flights:  ORD Total Flights to this Dest:  17283\n",
          "name": "stdout"
        }
      ]
    },
    {
      "metadata": {
        "trusted": true
      },
      "cell_type": "code",
      "source": "top5 = dest_fligh_count.sort_values(ascending=False).iloc[:5]\ntop5\n",
      "execution_count": 57,
      "outputs": [
        {
          "output_type": "execute_result",
          "execution_count": 57,
          "data": {
            "text/plain": "ORD    17283\nATL    17215\nLAX    16174\nBOS    15508\nMCO    14082\nName: dest, dtype: int64"
          },
          "metadata": {}
        }
      ]
    },
    {
      "metadata": {
        "trusted": true
      },
      "cell_type": "code",
      "source": "fig, ax = plt.subplots()\nrects1 = ax.bar(top5.index,top5.values, 0.35, color='lightblue')\n\n# add some text for labels, title \nax.set_ylabel('<-- Total Flights -->')\nax.set_xlabel('<-- Destinations -->')\nax.set_title(' **** Top 5 Destinations **** ',fontsize=16)\n\ndef autolabel(rects):\n    \"\"\"\n    Attach a text label above each bar displaying its height\n    \"\"\"\n    for rect in rects:\n        height = rect.get_height()\n        ax.text(rect.get_x() + rect.get_width()/2., 1.005*height, '%d' % int(height), ha='center', va='bottom')\n\nautolabel(rects1)\nplt.show()",
      "execution_count": 58,
      "outputs": [
        {
          "output_type": "display_data",
          "data": {
            "image/png": "[encoded data removed]",
            "text/plain": "<matplotlib.figure.Figure at 0x7f640ef9c9e8>"
          },
          "metadata": {}
        }
      ]
    },
    {
      "metadata": {},
      "cell_type": "markdown",
      "source": "# END"
    }
  ],
  "metadata": {
    "kernelspec": {
      "name": "python3",
      "display_name": "Python 3",
      "language": "python"
    },
    "language_info": {
      "mimetype": "text/x-python",
      "nbconvert_exporter": "python",
      "name": "python",
      "file_extension": ".py",
      "version": "3.5.4",
      "pygments_lexer": "ipython3",
      "codemirror_mode": {
        "version": 3,
        "name": "ipython"
      }
    }
  },
  "nbformat": 4,
  "nbformat_minor": 2
}